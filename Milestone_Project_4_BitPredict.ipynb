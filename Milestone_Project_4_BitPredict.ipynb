{
  "nbformat": 4,
  "nbformat_minor": 0,
  "metadata": {
    "colab": {
      "provenance": [],
      "mount_file_id": "1kr9n_tL2Op0-zKWdEq8kvEbWQxAuhQQ6",
      "authorship_tag": "ABX9TyOSdhs2pS2WxWHyx/P9ytus",
      "include_colab_link": true
    },
    "kernelspec": {
      "name": "python3",
      "display_name": "Python 3"
    },
    "language_info": {
      "name": "python"
    }
  },
  "cells": [
    {
      "cell_type": "markdown",
      "metadata": {
        "id": "view-in-github",
        "colab_type": "text"
      },
      "source": [
        "<a href=\"https://colab.research.google.com/github/May-Moon-Colab/Machine-Learning/blob/main/Milestone_Project_4_BitPredict.ipynb\" target=\"_parent\"><img src=\"https://colab.research.google.com/assets/colab-badge.svg\" alt=\"Open In Colab\"/></a>"
      ]
    },
    {
      "cell_type": "markdown",
      "source": [
        "# Project 4: Time series forecasting in TensorFlow (BitPredict 💰📈)\n",
        "\n",
        "I'am going to be building a series of models in an attempt to predict the price of Bitcoin. \n",
        "\n",
        "Milestone Project 4, BitPredict 💰📈!\n",
        "\n",
        "\n",
        "## What is a time series problem?\n",
        "\n",
        "Time series problems deal with data over time.\n",
        "\n",
        "Such as, the number of staff members in a company over 10-years, sales of computers for the past 5-years, electricity usage for the past 50-years.\n",
        "\n",
        "The timeline can be short (seconds/minutes) or long (years/decades). And the problems you might investigate using can usually be broken down into two categories.\n",
        "\n",
        "![example time series problems](https://raw.githubusercontent.com/mrdbourke/tensorflow-deep-learning/main/images/10-example-time-series-problems.png)\n",
        "\n",
        "| Problem Type | Examples | Output |\n",
        "| ----- | ----- | ----- |\n",
        "| **Classification** | Anomaly detection, time series identification (where did this time series come from?) | Discrete (a label) |\n",
        "| **Forecasting** | Predicting stock market prices, forecasting future demand for a product, stocking inventory requirements | Continuous (a number) |\n",
        "\n",
        "In both cases above, a supervised learning approach is often used. Meaning, you'd have some example data and a label assosciated with that data.\n",
        "\n",
        "For example, in forecasting the price of Bitcoin, your data could be the historical price of Bitcoin for the past month and the label could be today's price (the label can't be tomorrow's price because that's what we'd want to predict).\n",
        "\n",
        "What kind of problem BitPredict 💰📈 is?\n",
        "\n",
        "## I'll cover\n",
        "\n",
        "* Get time series data (the historical price of Bitcoin)\n",
        "  * Load in time series data using pandas/Python's CSV module\n",
        "* Format data for a time series problem\n",
        "  * Creating training and test sets (the wrong way)\n",
        "  * Creating training and test sets (the right way)\n",
        "  * Visualizing time series data\n",
        "  * Turning time series data into a supervised learning problem (windowing)\n",
        "  * Preparing univariate and multivariate (more than one variable) data\n",
        "* Evaluating a time series forecasting model\n",
        "* Setting up a series of deep learning modelling experiments\n",
        "  * Dense (fully-connected) networks\n",
        "  * Sequence models (LSTM and 1D CNN)\n",
        "  * Ensembling (combining multiple models together)\n",
        "  * Multivariate models\n",
        "  * Replicating the N-BEATS algorithm using TensorFlow layer subclassing\n",
        "* Creating a modelling checkpoint to save the best performing model during training\n",
        "* Making predictions (forecasts) with a time series model\n",
        "* Creating prediction intervals for time series model forecasts\n",
        "* Discussing two different types of uncertainty in machine learning (data uncertainty and model uncertainty)\n",
        "* Demonstrating why forecasting in an open system is BS (the turkey problem) \n"
      ],
      "metadata": {
        "id": "tGkVHizPtlza"
      }
    },
    {
      "cell_type": "code",
      "source": [],
      "metadata": {
        "id": "Xbp7Lso3uNZS"
      },
      "execution_count": null,
      "outputs": []
    }
  ]
}